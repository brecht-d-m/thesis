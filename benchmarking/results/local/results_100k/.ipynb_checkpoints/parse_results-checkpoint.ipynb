{
 "cells": [
  {
   "cell_type": "code",
   "execution_count": 15,
   "metadata": {
    "collapsed": true
   },
   "outputs": [],
   "source": [
    "%matplotlib inline \n",
    "\n",
    "import pandas as pd\n",
    "import numpy as np\n",
    "import matplotlib\n",
    "import matplotlib.pyplot as plt\n",
    "import datetime"
   ]
  },
  {
   "cell_type": "code",
   "execution_count": 68,
   "metadata": {
    "collapsed": false
   },
   "outputs": [],
   "source": [
    "from math import sqrt\n",
    "SPINE_COLOR = 'gray'\n",
    "\n",
    "def latexify(fig_width=None, fig_height=None, columns=1):\n",
    "    \"\"\"Set up matplotlib's RC params for LaTeX plotting.\n",
    "    Call this before plotting a figure.\n",
    "\n",
    "    Parameters\n",
    "    ----------\n",
    "    fig_width : float, optional, inches\n",
    "    fig_height : float,  optional, inches\n",
    "    columns : {1, 2}\n",
    "    \"\"\"\n",
    "\n",
    "    # code adapted from http://www.scipy.org/Cookbook/Matplotlib/LaTeX_Examples\n",
    "\n",
    "    # Width and max height in inches for IEEE journals taken from\n",
    "    # computer.org/cms/Computer.org/Journal%20templates/transactions_art_guide.pdf\n",
    "\n",
    "    assert(columns in [1,2])\n",
    "\n",
    "    if fig_width is None:\n",
    "        fig_width = 3.39 if columns==1 else 6.9 # width in inches\n",
    "\n",
    "    if fig_height is None:\n",
    "        golden_mean = (sqrt(5)-1.0)/2.0    # Aesthetic ratio\n",
    "        fig_height = fig_width*golden_mean +1.1 # height in inches\n",
    "        \n",
    "    fig_height = fig_height * (2/3)    \n",
    "        \n",
    "    MAX_HEIGHT_INCHES = 8.0\n",
    "    if fig_height > MAX_HEIGHT_INCHES:\n",
    "        print(\"WARNING: fig_height too large:\" + fig_height + \n",
    "              \"so will reduce to\" + MAX_HEIGHT_INCHES + \"inches.\")\n",
    "        fig_height = MAX_HEIGHT_INCHES\n",
    "\n",
    "    params = {'backend': 'ps',\n",
    "              'text.latex.preamble': ['\\\\usepackage{gensymb}'],\n",
    "              'axes.labelsize': 8, # fontsize for x and y labels (was 10)\n",
    "              'axes.titlesize': 8,\n",
    "              'text.fontsize': 8, # was 10\n",
    "              'legend.fontsize': 8, # was 10\n",
    "              'xtick.labelsize': 8,\n",
    "              'ytick.labelsize': 8,\n",
    "              'text.usetex': True,\n",
    "              'figure.figsize': [fig_width,fig_height],\n",
    "              'font.family': 'serif'\n",
    "    }\n",
    "\n",
    "    matplotlib.rcParams.update(params)\n",
    "\n",
    "\n",
    "def format_axes(ax):\n",
    "\n",
    "    for spine in ['top', 'right']:\n",
    "        ax.spines[spine].set_visible(False)\n",
    "\n",
    "    for spine in ['left', 'bottom']:\n",
    "        ax.spines[spine].set_color(SPINE_COLOR)\n",
    "        ax.spines[spine].set_linewidth(0.5)\n",
    "\n",
    "    ax.xaxis.set_ticks_position('bottom')\n",
    "    ax.yaxis.set_ticks_position('left')\n",
    "\n",
    "    for axis in [ax.xaxis, ax.yaxis]:\n",
    "        axis.set_tick_params(direction='out', color=SPINE_COLOR)\n",
    "\n",
    "    return ax"
   ]
  },
  {
   "cell_type": "markdown",
   "metadata": {},
   "source": [
    "# HDT"
   ]
  },
  {
   "cell_type": "code",
   "execution_count": 5,
   "metadata": {
    "collapsed": false
   },
   "outputs": [],
   "source": [
    "results_hdt = pd.read_csv(\"output_time_hdt_100k.log\")\n",
    "results_hdt = results_hdt.iloc[0:20*5]\n",
    "\n",
    "results_hdt[\"query\"] = results_hdt[\"query\"].str.extract(r'watdiv/watdiv/bin/Release/datasets/100k/gen_queries/gen_queries_([0-9]+_.*)\\.txt')\n",
    "results_hdt[\"query_type\"] = results_hdt[\"query\"].str.replace(r\"[0-9]+_\", \"\")\n",
    "\n",
    "results_hdt['t'] = results_hdt[\"time\"].apply(lambda x: datetime.datetime.strptime(x,' %M:%S.%f'))\n",
    "results_hdt['td'] = results_hdt.t - datetime.datetime.strptime('00:00.0','%M:%S.%f')\n",
    "results_hdt['time'] = results_hdt['td'].apply(lambda x: x / np.timedelta64(1, 's'))\n",
    "\n",
    "# Averages per query type\n",
    "averages_hdt = results_hdt.groupby([\"query_type\"]).mean()\n",
    "averages_hdt[\"query_class\"] = averages_hdt.index.str.replace(r\"[0-9]\", \"\")\n",
    "\n",
    "# Averages per query class\n",
    "averages_class_hdt = averages_hdt.groupby([\"query_class\"]).mean()"
   ]
  },
  {
   "cell_type": "markdown",
   "metadata": {},
   "source": [
    "# Spark"
   ]
  },
  {
   "cell_type": "code",
   "execution_count": 6,
   "metadata": {
    "collapsed": false
   },
   "outputs": [],
   "source": [
    "results_spark = pd.read_csv(\"output_time_spark_100k.log\")\n",
    "results_spark = results_spark.iloc[0:20*5]\n",
    "\n",
    "results_spark[\"query\"] = results_spark[\"query\"].str.extract(r'watdiv/watdiv/bin/Release/datasets/100k/gen_queries/gen_queries_([0-9]+_.*)\\.txt')\n",
    "results_spark[\"query_type\"] = results_spark[\"query\"].str.replace(r\"[0-9]+_\", \"\")\n",
    "\n",
    "results_spark['t'] = results_spark[\"time\"].apply(lambda x: datetime.datetime.strptime(x,' %M:%S.%f'))\n",
    "results_spark['td'] = results_spark.t - datetime.datetime.strptime('00:00.0','%M:%S.%f')\n",
    "results_spark['time'] = results_spark['td'].apply(lambda x: x / np.timedelta64(1, 's'))\n",
    "\n",
    "# Averages per query type\n",
    "averages_spark = results_spark.groupby([\"query_type\"]).mean()\n",
    "averages_spark[\"query_class\"] = averages_spark.index.str.replace(r\"[0-9]\", \"\")\n",
    "\n",
    "# Averages per query class\n",
    "averages_class_spark = averages_spark.groupby([\"query_class\"]).mean()"
   ]
  },
  {
   "cell_type": "markdown",
   "metadata": {},
   "source": [
    "# Spark IT"
   ]
  },
  {
   "cell_type": "code",
   "execution_count": 7,
   "metadata": {
    "collapsed": true
   },
   "outputs": [],
   "source": [
    "results_spark_it = pd.read_csv(\"output_time_spark_100k_it.log\")\n",
    "results_spark_it = results_spark_it.iloc[0:20*5]\n",
    "\n",
    "results_spark_it[\"query\"] = results_spark_it[\"query\"].str.extract(r'watdiv/watdiv/bin/Release/datasets/100k/gen_queries/gen_queries_([0-9]+_.*)\\.txt')\n",
    "results_spark_it[\"query_type\"] = results_spark_it[\"query\"].str.replace(r\"[0-9]+_\", \"\")\n",
    "\n",
    "results_spark_it['t'] = results_spark_it[\"time\"].apply(lambda x: datetime.datetime.strptime(x,' %M:%S.%f'))\n",
    "results_spark_it['td'] = results_spark_it.t - datetime.datetime.strptime('00:00.0','%M:%S.%f')\n",
    "results_spark_it['time'] = results_spark_it['td'].apply(lambda x: x / np.timedelta64(1, 's'))\n",
    "\n",
    "# Averages per query type\n",
    "averages_spark_it = results_spark_it.groupby([\"query_type\"]).mean()\n",
    "averages_spark_it[\"query_class\"] = averages_spark_it.index.str.replace(r\"[0-9]\", \"\")\n",
    "\n",
    "# Averages per query class\n",
    "averages_class_spark_it = averages_spark_it.groupby([\"query_class\"]).mean()"
   ]
  },
  {
   "cell_type": "markdown",
   "metadata": {},
   "source": [
    "# Spark IT Sorted"
   ]
  },
  {
   "cell_type": "code",
   "execution_count": 8,
   "metadata": {
    "collapsed": false
   },
   "outputs": [],
   "source": [
    "results_spark_its = pd.read_csv(\"output_time_spark_100k_its.log\")\n",
    "results_spark_its = results_spark_its.iloc[0:20*5]\n",
    "\n",
    "results_spark_its[\"query\"] = results_spark_its[\"query\"].str.extract(r'watdiv/watdiv/bin/Release/datasets/100k/gen_queries/gen_queries_([0-9]+_.*)\\.txt')\n",
    "results_spark_its[\"query_type\"] = results_spark_its[\"query\"].str.replace(r\"[0-9]+_\", \"\")\n",
    "\n",
    "results_spark_its['t'] = results_spark_its[\"time\"].apply(lambda x: datetime.datetime.strptime(x,' %M:%S.%f'))\n",
    "results_spark_its['td'] = results_spark_its.t - datetime.datetime.strptime('00:00.0','%M:%S.%f')\n",
    "results_spark_its['time'] = results_spark_its['td'].apply(lambda x: x / np.timedelta64(1, 's'))\n",
    "\n",
    "# Averages per query type\n",
    "averages_spark_its = results_spark_its.groupby([\"query_type\"]).mean()\n",
    "averages_spark_its[\"query_class\"] = averages_spark_its.index.str.replace(r\"[0-9]\", \"\")\n",
    "\n",
    "# Averages per query class\n",
    "averages_class_spark_its = averages_spark_its.groupby([\"query_class\"]).mean()"
   ]
  },
  {
   "cell_type": "markdown",
   "metadata": {},
   "source": [
    "# Impala"
   ]
  },
  {
   "cell_type": "code",
   "execution_count": 10,
   "metadata": {
    "collapsed": true
   },
   "outputs": [],
   "source": [
    "import re\n",
    "pattern = re.compile(\"^ .*:.*:.*\")\n",
    "\n",
    "def parse_date(date):\n",
    "    if pattern.match(date):\n",
    "        return datetime.datetime.strptime(date,' %H:%M:%S')\n",
    "    else:\n",
    "        return datetime.datetime.strptime(date,' %M:%S.%f')"
   ]
  },
  {
   "cell_type": "code",
   "execution_count": 11,
   "metadata": {
    "collapsed": false
   },
   "outputs": [],
   "source": [
    "results_impala = pd.read_csv(\"output_time_impala.100k.new.log\")\n",
    "results_impala = results_impala.iloc[0:20*5]\n",
    "\n",
    "results_impala[\"query\"] = results_impala[\"query\"].str.extract(r'watdiv/watdiv/bin/Release/datasets/100k/gen_queries/gen_queries_([0-9]+_.*)\\.txt')\n",
    "results_impala[\"query_type\"] = results_impala[\"query\"].str.replace(r\"[0-9]+_\", \"\")\n",
    "\n",
    "results_impala['t'] = results_impala[\"time\"].apply(lambda x: parse_date(x))\n",
    "results_impala['td'] = results_impala.t - datetime.datetime.strptime('00:00.0','%M:%S.%f')\n",
    "results_impala['time'] = results_impala['td'].apply(lambda x: x / np.timedelta64(1, 's'))\n",
    "\n",
    "# Averages per query type\n",
    "averages_impala = results_impala.groupby([\"query_type\"]).mean()\n",
    "averages_impala[\"query_class\"] = averages_impala.index.str.replace(r\"[0-9]\", \"\")\n",
    "\n",
    "# Averages per query class\n",
    "averages_class_impala = averages_impala.groupby([\"query_class\"]).mean()"
   ]
  },
  {
   "cell_type": "markdown",
   "metadata": {},
   "source": [
    "# Impala IT"
   ]
  },
  {
   "cell_type": "code",
   "execution_count": 12,
   "metadata": {
    "collapsed": false
   },
   "outputs": [],
   "source": [
    "results_impala_it = pd.read_csv(\"output_time_impala_it.100k.new.log\")\n",
    "results_impala_it = results_impala_it.iloc[0:20*5]\n",
    "\n",
    "results_impala_it[\"query\"] = results_impala_it[\"query\"].str.extract(r'watdiv/watdiv/bin/Release/datasets/100k/gen_queries/gen_queries_([0-9]+_.*)\\.txt')\n",
    "results_impala_it[\"query_type\"] = results_impala_it[\"query\"].str.replace(r\"[0-9]+_\", \"\")\n",
    "\n",
    "results_impala_it['t'] = results_impala_it[\"time\"].apply(lambda x: parse_date(x))\n",
    "results_impala_it['td'] = results_impala_it.t - datetime.datetime.strptime('00:00.0','%M:%S.%f')\n",
    "results_impala_it['time'] = results_impala_it['td'].apply(lambda x: x / np.timedelta64(1, 's'))\n",
    "\n",
    "# Averages per query type\n",
    "averages_impala_it = results_impala_it.groupby([\"query_type\"]).mean()\n",
    "averages_impala_it[\"query_class\"] = averages_impala_it.index.str.replace(r\"[0-9]\", \"\")\n",
    "\n",
    "# Averages per query class\n",
    "averages_class_impala_it = averages_impala_it.groupby([\"query_class\"]).mean()"
   ]
  },
  {
   "cell_type": "markdown",
   "metadata": {},
   "source": [
    "# Table"
   ]
  },
  {
   "cell_type": "code",
   "execution_count": 13,
   "metadata": {
    "collapsed": false
   },
   "outputs": [
    {
     "name": "stdout",
     "output_type": "stream",
     "text": [
      "C1 & 0.534 & 3.672 & 3.632 & 84.666 & 65.142 & 66.722 \\\\\n",
      "C2 & 0.298 & 0.814 & 0.75 & 2.148 & 11.768 & 12.06 \\\\\n",
      "C3 & 2.958 & 4.0 & 61.026 & 9.13 & 1159.974 & 1190.664 \\\\\n",
      "F1 & 0.272 & 0.658 & 0.63 & 2.642 & 7.64 & 7.996 \\\\\n",
      "F2 & 0.298 & 0.75 & 0.694 & 14.144 & 9.178 & 9.93 \\\\\n",
      "F3 & 0.32 & 0.848 & 0.95 & 44.106 & 13.524 & 13.898 \\\\\n",
      "F4 & 0.482 & 7.368 & 2.846 & 5.18 & 53.868 & 55.242 \\\\\n",
      "F5 & 0.602 & 7.366 & 5.236 & 12.452 & 81.396 & 96.146 \\\\\n",
      "L1 & 0.462 & 3.158 & 3.174 & 10.834 & 56.45 & 57.644 \\\\\n",
      "L2 & 0.552 & 3.526 & 3.684 & 3.842 & 54.89 & 56.526 \\\\\n",
      "L3 & 0.396 & 2.328 & 2.296 & 2.11 & 37.182 & 38.386 \\\\\n",
      "L4 & 0.278 & 0.962 & 0.914 & 0.99 & 11.734 & 12.212 \\\\\n",
      "L5 & 0.366 & 2.18 & 2.014 & 3.696 & 29.654 & 30.604 \\\\\n",
      "S1 & 0.944 & 7.572 & 12.374 & 5.704 & 205.046 & 212.02 \\\\\n",
      "S2 & 0.366 & 1.484 & 1.484 & 2.666 & 21.01 & 21.314 \\\\\n",
      "S3 & 0.34 & 1.51 & 1.516 & 0.952 & 21.886 & 22.614 \\\\\n",
      "S4 & 0.358 & 1.41 & 1.4 & 3.204 & 19.248 & 19.352 \\\\\n",
      "S5 & 0.31 & 1.226 & 1.168 & 2.924 & 13.59 & 13.902 \\\\\n",
      "S6 & 0.26 & 0.552 & 0.558 & 1.38 & 5.46 & 5.526 \\\\\n",
      "S7 & 0.262 & 0.492 & 0.514 & 3.314 & 4.534 & 4.636 \\\\\n"
     ]
    }
   ],
   "source": [
    "queries = [\"C1\", \"C2\", \"C3\", \"F1\", \"F2\", \"F3\", \"F4\", \"F5\", \"L1\", \"L2\", \"L3\", \"L4\", \"L5\", \"S1\", \"S2\", \"S3\", \"S4\", \"S5\", \"S6\", \"S7\"]\n",
    "\n",
    "for i in range(20):\n",
    "    print(queries[i] + \n",
    "         \" & \" + str(round(averages_hdt.iloc[i][\"time\"],5)) +\n",
    "          \" & \" + str(round(averages_spark.iloc[i][\"time\"],5)) +\n",
    "          \" & \" + str(round(averages_spark_it.iloc[i][\"time\"],5)) +\n",
    "          \" & \" + str(round(averages_spark_its.iloc[i][\"time\"],5)) +\n",
    "          \" & \" + str(round(averages_impala.iloc[i][\"time\"],5)) +\n",
    "          \" & \" + str(round(averages_impala_it.iloc[i][\"time\"],5)) +\n",
    "          \" \\\\\\\\\"\n",
    "          )"
   ]
  },
  {
   "cell_type": "markdown",
   "metadata": {},
   "source": [
    "# Graphs"
   ]
  },
  {
   "cell_type": "code",
   "execution_count": 74,
   "metadata": {
    "collapsed": false
   },
   "outputs": [
    {
     "name": "stderr",
     "output_type": "stream",
     "text": [
      "/usr/local/lib/python3.4/dist-packages/matplotlib/__init__.py:872: UserWarning: text.fontsize is deprecated and replaced with font.size; please use the latter.\n",
      "  warnings.warn(self.msg_depr % (key, alt_key))\n"
     ]
    }
   ],
   "source": [
    "latexify(columns=2)"
   ]
  },
  {
   "cell_type": "code",
   "execution_count": 76,
   "metadata": {
    "collapsed": false
   },
   "outputs": [
    {
     "data": {
      "image/png": "[encoded data removed]",
      "text/plain": [
       "<matplotlib.figure.Figure at 0x7ffa472f2ef0>"
      ]
     },
     "metadata": {},
     "output_type": "display_data"
    }
   ],
   "source": [
    "# Grid lines\n",
    "#plt.figure(figsize=(20,10))\n",
    "\n",
    "hdt,       = plt.semilogy(range(1, averages_hdt.index.shape[0]+1),       averages_hdt[\"time\"],       '--o')\n",
    "spark,     = plt.semilogy(range(1, averages_spark.index.shape[0]+1),     averages_spark[\"time\"],     '--o')\n",
    "spark_it,  = plt.semilogy(range(1, averages_spark_it.index.shape[0]+1),  averages_spark_it[\"time\"],  '--o')\n",
    "spark_its, = plt.semilogy(range(1, averages_spark_its.index.shape[0]+1), averages_spark_its[\"time\"], '--o')\n",
    "impala,    = plt.semilogy(range(1, averages_impala.index.shape[0]+1),   averages_impala[\"time\"],     '--o')\n",
    "impala_it, = plt.semilogy(range(1, averages_impala_it.index.shape[0]+1), averages_impala_it[\"time\"], '--o')\n",
    "\n",
    "plt.ylabel(\"Execution time (s)\")\n",
    "plt.xlabel(\"WatDiv query template\")\n",
    "plt.xticks(range(1, averages_hdt.index.shape[0]+1), averages_hdt.index, rotation=\"vertical\")\n",
    "plt.grid(True, which=\"both\", color=\"gray\")\n",
    "\n",
    "legend = plt.legend([hdt, spark, spark_it, spark_its, impala, impala_it], \n",
    "                    [\"HDT\", \"Spark\", \"Spark - Index map\", \"Spark - Index map (sorted)\", \"Impala\", \"Impala - Index map\"],\n",
    "                    loc='upper center', bbox_to_anchor=(0.5, -0.15), ncol=2)\n",
    "\n",
    "plt.savefig(\"line_plot_100k_2c.pdf\", bbox_extra_artists=(legend,), bbox_inches='tight')\n",
    "#plt.show()"
   ]
  },
  {
   "cell_type": "code",
   "execution_count": 69,
   "metadata": {
    "collapsed": false
   },
   "outputs": [
    {
     "name": "stderr",
     "output_type": "stream",
     "text": [
      "/usr/local/lib/python3.4/dist-packages/matplotlib/__init__.py:872: UserWarning: text.fontsize is deprecated and replaced with font.size; please use the latter.\n",
      "  warnings.warn(self.msg_depr % (key, alt_key))\n"
     ]
    }
   ],
   "source": [
    "latexify(columns=1)"
   ]
  },
  {
   "cell_type": "code",
   "execution_count": 73,
   "metadata": {
    "collapsed": false
   },
   "outputs": [
    {
     "name": "stderr",
     "output_type": "stream",
     "text": [
      "/usr/local/lib/python3.4/dist-packages/matplotlib/__init__.py:872: UserWarning: text.fontsize is deprecated and replaced with font.size; please use the latter.\n",
      "  warnings.warn(self.msg_depr % (key, alt_key))\n"
     ]
    },
    {
     "data": {
      "image/png": "[encoded data removed]",
      "text/plain": [
       "<matplotlib.figure.Figure at 0x7ffa46de0fd0>"
      ]
     },
     "metadata": {},
     "output_type": "display_data"
    }
   ],
   "source": [
    "# Grid lines\n",
    "#plt.figure(figsize=(20,10))\n",
    "\n",
    "hdt,       = plt.semilogy(range(1, averages_hdt.index.shape[0]+1),       averages_hdt[\"time\"],       '--o')\n",
    "spark,     = plt.semilogy(range(1, averages_spark.index.shape[0]+1),     averages_spark[\"time\"],     '--o')\n",
    "spark_it,  = plt.semilogy(range(1, averages_spark_it.index.shape[0]+1),  averages_spark_it[\"time\"],  '--o')\n",
    "spark_its, = plt.semilogy(range(1, averages_spark_its.index.shape[0]+1), averages_spark_its[\"time\"], '--o')\n",
    "impala,    = plt.semilogy(range(1, averages_impala.index.shape[0]+1),   averages_impala[\"time\"],     '--o')\n",
    "impala_it, = plt.semilogy(range(1, averages_impala_it.index.shape[0]+1), averages_impala_it[\"time\"], '--o')\n",
    "\n",
    "plt.ylabel(\"Execution time (s)\")\n",
    "plt.xlabel(\"WatDiv query template\")\n",
    "plt.xticks(range(1, averages_hdt.index.shape[0]+1), averages_hdt.index, rotation=\"vertical\")\n",
    "plt.grid(True, which=\"both\", color=\"gray\")\n",
    "\n",
    "legend = plt.legend([hdt, spark, spark_it, spark_its, impala, impala_it], \n",
    "                    [\"HDT\", \"Spark\", \"Spark - Index map\", \"Spark - Index map (sorted)\", \"Impala\", \"Impala - Index map\"],\n",
    "                    loc='upper center', bbox_to_anchor=(0.5, -0.2), ncol=2)\n",
    "\n",
    "latexify(columns=1)\n",
    "plt.savefig(\"line_plot_100k_1c.pdf\", bbox_extra_artists=(legend,), bbox_inches='tight')"
   ]
  },
  {
   "cell_type": "code",
   "execution_count": 77,
   "metadata": {
    "collapsed": false
   },
   "outputs": [
    {
     "name": "stderr",
     "output_type": "stream",
     "text": [
      "/usr/local/lib/python3.4/dist-packages/matplotlib/__init__.py:872: UserWarning: text.fontsize is deprecated and replaced with font.size; please use the latter.\n",
      "  warnings.warn(self.msg_depr % (key, alt_key))\n"
     ]
    }
   ],
   "source": [
    "latexify(columns=2)"
   ]
  },
  {
   "cell_type": "code",
   "execution_count": 85,
   "metadata": {
    "collapsed": false
   },
   "outputs": [
    {
     "data": {
      "image/png": "[encoded data removed]",
      "text/plain": [
       "<matplotlib.figure.Figure at 0x7ffa469e02b0>"
      ]
     },
     "metadata": {},
     "output_type": "display_data"
    }
   ],
   "source": [
    "#ax = results_impala_100K[\"sec\"].plot.box(return_type=\"axes\")\n",
    "temp = pd.DataFrame()\n",
    "temp[\"hdt\"]       = results_hdt[\"time\"]\n",
    "temp[\"spark\"]     = results_spark[\"time\"]\n",
    "temp[\"spark_it\"]  = results_spark_it[\"time\"]\n",
    "temp[\"spark_its\"] = results_spark_its[\"time\"]\n",
    "temp[\"impala\"]    = results_impala[\"time\"]\n",
    "temp[\"impala_it\"] = results_impala_it[\"time\"]\n",
    "\n",
    "#plt.boxplot(temp)\n",
    "temp.plot.box()\n",
    "plt.yscale('log')\n",
    "plt.xticks(range(1, 7), [\"HDT\", \"Spark\", \"Spark \\n Index map\", \"Spark \\n Index map (sorted)\", \"Impala\", \"Impala \\n Index map\"])\n",
    "\n",
    "#plt.gca().spines['bottom'].set_color('white')\n",
    "#plt.gca().spines['top'].set_color('white') \n",
    "#plt.gca().spines['right'].set_color('white')\n",
    "#plt.gca().spines['left'].set_color('white')\n",
    "\n",
    "#plt.boxplot(results_impala_100K[\"secs\"])\n",
    "plt.grid(True, which=\"both\", color=\"gray\")\n",
    "plt.ylabel(\"Execution time (s)\")\n",
    "plt.xlabel(\"Runtime distributions (100k)\")\n",
    "plt.gca().xaxis.set_label_position('top') \n",
    "\n",
    "plt.savefig(\"boxplot_100k.pdf\")"
   ]
  },
  {
   "cell_type": "code",
   "execution_count": 87,
   "metadata": {
    "collapsed": false
   },
   "outputs": [
    {
     "data": {
      "image/png": "[encoded data removed]",
      "text/plain": [
       "<matplotlib.figure.Figure at 0x7ffa46cd2c50>"
      ]
     },
     "metadata": {},
     "output_type": "display_data"
    }
   ],
   "source": [
    "# Grid lines\n",
    "plt.figure()\n",
    "\n",
    "sorted_results_hdt       = results_hdt.sort_values([\"time\"])\n",
    "sorted_results_spark     = results_spark.sort_values([\"time\"])\n",
    "sorted_results_spark_it  = results_spark_it.sort_values([\"time\"])\n",
    "sorted_results_spark_its = results_spark_its.sort_values([\"time\"])\n",
    "sorted_results_impala    = results_impala.sort_values([\"time\"])\n",
    "sorted_results_impala_it = results_impala_it.sort_values([\"time\"])\n",
    "\n",
    "hdt,       = plt.semilogy(range(1, results_hdt.index.shape[0]+1),              sorted_results_hdt[\"time\"], '-')\n",
    "spark,     = plt.semilogy(range(1, sorted_results_spark.index.shape[0]+1),     sorted_results_spark[\"time\"], '-')\n",
    "spark_it,  = plt.semilogy(range(1, sorted_results_spark_it.index.shape[0]+1),  sorted_results_spark_it[\"time\"], '-')\n",
    "spark_its, = plt.semilogy(range(1, sorted_results_spark_its.shape[0]+1),       sorted_results_spark_its[\"time\"], '-')\n",
    "impala,    = plt.semilogy(range(1, sorted_results_impala.index.shape[0]+1),    sorted_results_impala[\"time\"], '-')\n",
    "impala_it, = plt.semilogy(range(1, sorted_results_impala_it.index.shape[0]+1), sorted_results_impala_it[\"time\"], '-')\n",
    "\n",
    "plt.ylabel(\"Execution time (s)\")\n",
    "plt.grid(True, which=\"both\", color=\"gray\")\n",
    "\n",
    "legend = plt.legend([hdt, spark, spark_it, spark_its, impala, impala_it], \n",
    "                    [\"HDT\", \"Spark\", \"Spark - Index map\", \"Spark - Index map (sorted)\", \"Impala\", \"Impala - Index map\"],\n",
    "                    loc='upper center', bbox_to_anchor=(0.5, -0.1), ncol=3)\n",
    "\n",
    "plt.savefig(\"line_plot_2_100k.pdf\", bbox_extra_artists=(legend,), bbox_inches='tight')\n",
    "#plt.show()"
   ]
  },
  {
   "cell_type": "code",
   "execution_count": 89,
   "metadata": {
    "collapsed": false
   },
   "outputs": [
    {
     "data": {
      "image/png": "[encoded data removed]",
      "text/plain": [
       "<matplotlib.figure.Figure at 0x7ffa477900b8>"
      ]
     },
     "metadata": {},
     "output_type": "display_data"
    }
   ],
   "source": [
    "fig, ax = plt.subplots()\n",
    "\n",
    "ind = np.arange(averages_class_hdt.index.shape[0])  # the x locations for the groups\n",
    "width = 7/50                                  # the width of the bars\n",
    "#width= 0.35\n",
    "\n",
    "prop_iter = iter(plt.rcParams['axes.prop_cycle'])\n",
    "hdt       = ax.bar(ind,           averages_class_hdt.time,       width, log=True, color=next(prop_iter)['color'])\n",
    "spark     = ax.bar(ind + width,   averages_class_spark.time,     width, log=True, color=next(prop_iter)['color'])\n",
    "spark_it  = ax.bar(ind + 2*width, averages_class_spark_it.time,  width, log=True, color=next(prop_iter)['color'])\n",
    "spark_its = ax.bar(ind + 3*width, averages_class_spark_its.time, width, log=True, color=next(prop_iter)['color'])\n",
    "impala    = ax.bar(ind + 3*width, averages_class_impala.time,    width, log=True, color=next(prop_iter)['color'])\n",
    "impala_it = ax.bar(ind + 4*width, averages_class_impala_it.time, width, log=True, color=next(prop_iter)['color'])\n",
    "\n",
    "plt.ylabel(\"Execution time (s)\")\n",
    "plt.xlabel(\"WatDiv query type\")\n",
    "ax.set_xticks(ind + 2.5*width)\n",
    "ax.set_xticklabels(averages_class_hdt.index)\n",
    "ax.set_ylim(0,5000)\n",
    "plt.grid(True, which=\"both\", color=\"gray\")\n",
    "\n",
    "legend = plt.legend([hdt, spark, spark_it, spark_its, impala, impala_it], \n",
    "                    [\"HDT\", \"Spark\", \"Spark - Index map\", \"Spark - Index map (sorted)\", \"Impala\", \"Impala - Index map\"],\n",
    "                    loc='upper center', bbox_to_anchor=(0.5, -0.1), ncol=3)\n",
    "\n",
    "plt.savefig(\"barplot_100k.pdf\", bbox_extra_artists=(legend,), bbox_inches='tight')\n",
    "#plt.show()"
   ]
  },
  {
   "cell_type": "code",
   "execution_count": 5,
   "metadata": {
    "collapsed": false
   },
   "outputs": [],
   "source": [
    "# Boxplot\n",
    "results_spark_100K = pd.read_csv(\"output_time_spark_100k.log\", names=[\"query\", \"time\"])\n",
    "results_impala_100K = pd.read_csv(\"output_time_impala_100k.log\", names=[\"query\", \"time\"])"
   ]
  },
  {
   "cell_type": "code",
   "execution_count": 6,
   "metadata": {
    "collapsed": false
   },
   "outputs": [
    {
     "data": {
      "text/html": [
       "<div>\n",
       "<table border=\"1\" class=\"dataframe\">\n",
       "  <thead>\n",
       "    <tr style=\"text-align: right;\">\n",
       "      <th></th>\n",
       "      <th>query</th>\n",
       "      <th>time</th>\n",
       "    </tr>\n",
       "  </thead>\n",
       "  <tbody>\n",
       "    <tr>\n",
       "      <th>0</th>\n",
       "      <td>watdiv/watdiv/bin/Release/gen_queries/gen_quer...</td>\n",
       "      <td>0:24.14</td>\n",
       "    </tr>\n",
       "    <tr>\n",
       "      <th>1</th>\n",
       "      <td>watdiv/watdiv/bin/Release/gen_queries/gen_quer...</td>\n",
       "      <td>0:02.36</td>\n",
       "    </tr>\n",
       "    <tr>\n",
       "      <th>2</th>\n",
       "      <td>watdiv/watdiv/bin/Release/gen_queries/gen_quer...</td>\n",
       "      <td>0:42.21</td>\n",
       "    </tr>\n",
       "    <tr>\n",
       "      <th>3</th>\n",
       "      <td>watdiv/watdiv/bin/Release/gen_queries/gen_quer...</td>\n",
       "      <td>0:01.86</td>\n",
       "    </tr>\n",
       "    <tr>\n",
       "      <th>4</th>\n",
       "      <td>watdiv/watdiv/bin/Release/gen_queries/gen_quer...</td>\n",
       "      <td>0:17.33</td>\n",
       "    </tr>\n",
       "  </tbody>\n",
       "</table>\n",
       "</div>"
      ],
      "text/plain": [
       "                                               query      time\n",
       "0  watdiv/watdiv/bin/Release/gen_queries/gen_quer...   0:24.14\n",
       "1  watdiv/watdiv/bin/Release/gen_queries/gen_quer...   0:02.36\n",
       "2  watdiv/watdiv/bin/Release/gen_queries/gen_quer...   0:42.21\n",
       "3  watdiv/watdiv/bin/Release/gen_queries/gen_quer...   0:01.86\n",
       "4  watdiv/watdiv/bin/Release/gen_queries/gen_quer...   0:17.33"
      ]
     },
     "execution_count": 6,
     "metadata": {},
     "output_type": "execute_result"
    }
   ],
   "source": [
    "results_spark_100K.head(n=5)"
   ]
  },
  {
   "cell_type": "code",
   "execution_count": 7,
   "metadata": {
    "collapsed": false
   },
   "outputs": [
    {
     "data": {
      "text/html": [
       "<div>\n",
       "<table border=\"1\" class=\"dataframe\">\n",
       "  <thead>\n",
       "    <tr style=\"text-align: right;\">\n",
       "      <th></th>\n",
       "      <th>query</th>\n",
       "      <th>time</th>\n",
       "    </tr>\n",
       "  </thead>\n",
       "  <tbody>\n",
       "    <tr>\n",
       "      <th>0</th>\n",
       "      <td>watdiv/watdiv/bin/Release/gen_queries/gen_quer...</td>\n",
       "      <td>0:51.76</td>\n",
       "    </tr>\n",
       "    <tr>\n",
       "      <th>1</th>\n",
       "      <td>watdiv/watdiv/bin/Release/gen_queries/gen_quer...</td>\n",
       "      <td>0:13.45</td>\n",
       "    </tr>\n",
       "    <tr>\n",
       "      <th>2</th>\n",
       "      <td>watdiv/watdiv/bin/Release/gen_queries/gen_quer...</td>\n",
       "      <td>22:33.87</td>\n",
       "    </tr>\n",
       "    <tr>\n",
       "      <th>3</th>\n",
       "      <td>watdiv/watdiv/bin/Release/gen_queries/gen_quer...</td>\n",
       "      <td>0:11.33</td>\n",
       "    </tr>\n",
       "    <tr>\n",
       "      <th>4</th>\n",
       "      <td>watdiv/watdiv/bin/Release/gen_queries/gen_quer...</td>\n",
       "      <td>0:17.25</td>\n",
       "    </tr>\n",
       "  </tbody>\n",
       "</table>\n",
       "</div>"
      ],
      "text/plain": [
       "                                               query       time\n",
       "0  watdiv/watdiv/bin/Release/gen_queries/gen_quer...    0:51.76\n",
       "1  watdiv/watdiv/bin/Release/gen_queries/gen_quer...    0:13.45\n",
       "2  watdiv/watdiv/bin/Release/gen_queries/gen_quer...   22:33.87\n",
       "3  watdiv/watdiv/bin/Release/gen_queries/gen_quer...    0:11.33\n",
       "4  watdiv/watdiv/bin/Release/gen_queries/gen_quer...    0:17.25"
      ]
     },
     "execution_count": 7,
     "metadata": {},
     "output_type": "execute_result"
    }
   ],
   "source": [
    "results_impala_100K.head(n=5)"
   ]
  },
  {
   "cell_type": "code",
   "execution_count": 8,
   "metadata": {
    "collapsed": false
   },
   "outputs": [],
   "source": [
    "results_impala_100K['t'] = results_impala_100K.time.apply(lambda x: datetime.datetime.strptime(x,' %M:%S.%f'))\n",
    "results_impala_100K['td'] = results_impala_100K.t - datetime.datetime.strptime('00:00.0','%M:%S.%f')\n",
    "results_impala_100K['sec'] = results_impala_100K['td'].apply(lambda x: x / np.timedelta64(1, 's'))"
   ]
  },
  {
   "cell_type": "code",
   "execution_count": 9,
   "metadata": {
    "collapsed": true
   },
   "outputs": [],
   "source": [
    "results_spark_100K['t'] = results_spark_100K.time.apply(lambda x: datetime.datetime.strptime(x,' %M:%S.%f'))\n",
    "results_spark_100K['td'] = results_spark_100K.t - datetime.datetime.strptime('00:00.0','%M:%S.%f')\n",
    "results_spark_100K['sec'] = results_spark_100K['td'].apply(lambda x: x / np.timedelta64(1, 's'))"
   ]
  },
  {
   "cell_type": "code",
   "execution_count": 10,
   "metadata": {
    "collapsed": false
   },
   "outputs": [
    {
     "data": {
      "image/png": "[encoded data removed]",
      "text/plain": [
       "<matplotlib.figure.Figure at 0x7f5ffec73cc0>"
      ]
     },
     "metadata": {},
     "output_type": "display_data"
    }
   ],
   "source": [
    "#ax = results_impala_100K[\"sec\"].plot.box(return_type=\"axes\")\n",
    "temp = pd.DataFrame()\n",
    "temp[\"impala\"] = results_impala_100K[\"sec\"]\n",
    "temp[\"spark\"] =  results_spark_100K[\"sec\"]\n",
    "#plt.boxplot(temp)\n",
    "temp.plot.box()\n",
    "plt.yscale('log')\n",
    "plt.xticks(range(1, 3), [\"Impala\", \"Spark\"])\n",
    "\n",
    "plt.gca().spines['bottom'].set_color('white')\n",
    "plt.gca().spines['top'].set_color('white') \n",
    "plt.gca().spines['right'].set_color('white')\n",
    "plt.gca().spines['left'].set_color('white')\n",
    "\n",
    "#plt.boxplot(results_impala_100K[\"secs\"])\n",
    "plt.grid(True, which=\"both\", color=\"gray\")\n",
    "plt.ylabel(\"Execution time (s)\")\n",
    "plt.xlabel(\"Runtime distributions (100K)\")\n",
    "plt.gca().xaxis.set_label_position('top') \n",
    "\n",
    "plt.savefig(\"boxplot.eps\")"
   ]
  },
  {
   "cell_type": "code",
   "execution_count": 14,
   "metadata": {
    "collapsed": false
   },
   "outputs": [
    {
     "data": {
      "text/plain": [
       "0      False\n",
       "1      False\n",
       "2      False\n",
       "3       True\n",
       "4       True\n",
       "5       True\n",
       "6       True\n",
       "7       True\n",
       "8      False\n",
       "9      False\n",
       "10     False\n",
       "11     False\n",
       "12     False\n",
       "13     False\n",
       "14     False\n",
       "15     False\n",
       "16     False\n",
       "17     False\n",
       "18     False\n",
       "19     False\n",
       "20     False\n",
       "21     False\n",
       "22     False\n",
       "23      True\n",
       "24      True\n",
       "25      True\n",
       "26      True\n",
       "27      True\n",
       "28     False\n",
       "29     False\n",
       "       ...  \n",
       "273    False\n",
       "274    False\n",
       "275    False\n",
       "276    False\n",
       "277    False\n",
       "278    False\n",
       "279    False\n",
       "280    False\n",
       "281    False\n",
       "282    False\n",
       "283     True\n",
       "284     True\n",
       "285     True\n",
       "286     True\n",
       "287     True\n",
       "288    False\n",
       "289    False\n",
       "290    False\n",
       "291    False\n",
       "292    False\n",
       "293    False\n",
       "294    False\n",
       "295    False\n",
       "296    False\n",
       "297    False\n",
       "298    False\n",
       "299    False\n",
       "300    False\n",
       "301    False\n",
       "302    False\n",
       "Name: query, dtype: bool"
      ]
     },
     "execution_count": 14,
     "metadata": {},
     "output_type": "execute_result"
    }
   ],
   "source": [
    "# Sorted per type of query\n",
    "results_impala_100K[\"query\"].str.contains(\"C\")\n",
    "results_impala_100K[\"query\"].str.contains(\"L\")\n",
    "results_impala_100K[\"query\"].str.contains(\"F\")\n",
    "\n"
   ]
  },
  {
   "cell_type": "code",
   "execution_count": null,
   "metadata": {
    "collapsed": true
   },
   "outputs": [],
   "source": [
    "# Sorted per execution time"
   ]
  }
 ],
 "metadata": {
  "kernelspec": {
   "display_name": "Python 2",
   "language": "python",
   "name": "python2"
  },
  "language_info": {
   "codemirror_mode": {
    "name": "ipython",
    "version": 2
   },
   "file_extension": ".py",
   "mimetype": "text/x-python",
   "name": "python",
   "nbconvert_exporter": "python",
   "pygments_lexer": "ipython2",
   "version": "2.7.11"
  },
  "toc": {
   "toc_cell": false,
   "toc_number_sections": true,
   "toc_threshold": 6,
   "toc_window_display": false
  }
 },
 "nbformat": 4,
 "nbformat_minor": 0
}

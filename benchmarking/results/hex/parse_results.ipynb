{
 "cells": [
  {
   "cell_type": "code",
   "execution_count": 1,
   "metadata": {
    "collapsed": true
   },
   "outputs": [],
   "source": [
    "%matplotlib inline \n",
    "\n",
    "import pandas as pd\n",
    "import numpy as np\n",
    "import matplotlib\n",
    "import matplotlib.pyplot as plt\n",
    "import datetime"
   ]
  },
  {
   "cell_type": "code",
   "execution_count": 2,
   "metadata": {
    "collapsed": true
   },
   "outputs": [],
   "source": [
    "from math import sqrt\n",
    "SPINE_COLOR = 'gray'\n",
    "\n",
    "def latexify(fig_width=None, fig_height=None, columns=1):\n",
    "    \"\"\"Set up matplotlib's RC params for LaTeX plotting.\n",
    "    Call this before plotting a figure.\n",
    "\n",
    "    Parameters\n",
    "    ----------\n",
    "    fig_width : float, optional, inches\n",
    "    fig_height : float,  optional, inches\n",
    "    columns : {1, 2}\n",
    "    \"\"\"\n",
    "\n",
    "    # code adapted from http://www.scipy.org/Cookbook/Matplotlib/LaTeX_Examples\n",
    "\n",
    "    # Width and max height in inches for IEEE journals taken from\n",
    "    # computer.org/cms/Computer.org/Journal%20templates/transactions_art_guide.pdf\n",
    "\n",
    "    assert(columns in [1,2])\n",
    "\n",
    "    if fig_width is None:\n",
    "        fig_width = 3.39 if columns==1 else 6.9 # width in inches\n",
    "\n",
    "    if fig_height is None:\n",
    "        golden_mean = (sqrt(5)-1.0)/2.0    # Aesthetic ratio\n",
    "        fig_height = fig_width*golden_mean +1.1 # height in inches\n",
    "        \n",
    "    fig_height = fig_height * (2/3)    \n",
    "        \n",
    "    MAX_HEIGHT_INCHES = 8.0\n",
    "    if fig_height > MAX_HEIGHT_INCHES:\n",
    "        print(\"WARNING: fig_height too large:\" + fig_height + \n",
    "              \"so will reduce to\" + MAX_HEIGHT_INCHES + \"inches.\")\n",
    "        fig_height = MAX_HEIGHT_INCHES\n",
    "\n",
    "    params = {'backend': 'ps',\n",
    "              'text.latex.preamble': ['\\\\usepackage{gensymb}'],\n",
    "              'axes.labelsize': 8, # fontsize for x and y labels (was 10)\n",
    "              'axes.titlesize': 8,\n",
    "              'text.fontsize': 8, # was 10\n",
    "              'legend.fontsize': 8, # was 10\n",
    "              'xtick.labelsize': 8,\n",
    "              'ytick.labelsize': 8,\n",
    "              'text.usetex': True,\n",
    "              'figure.figsize': [fig_width,fig_height],\n",
    "              'font.family': 'serif'\n",
    "    }\n",
    "\n",
    "    matplotlib.rcParams.update(params)\n",
    "\n",
    "\n",
    "def format_axes(ax):\n",
    "\n",
    "    for spine in ['top', 'right']:\n",
    "        ax.spines[spine].set_visible(False)\n",
    "\n",
    "    for spine in ['left', 'bottom']:\n",
    "        ax.spines[spine].set_color(SPINE_COLOR)\n",
    "        ax.spines[spine].set_linewidth(0.5)\n",
    "\n",
    "    ax.xaxis.set_ticks_position('bottom')\n",
    "    ax.yaxis.set_ticks_position('left')\n",
    "\n",
    "    for axis in [ax.xaxis, ax.yaxis]:\n",
    "        axis.set_tick_params(direction='out', color=SPINE_COLOR)\n",
    "\n",
    "    return ax"
   ]
  },
  {
   "cell_type": "code",
   "execution_count": 3,
   "metadata": {
    "collapsed": true
   },
   "outputs": [],
   "source": [
    "import re\n",
    "pattern = re.compile(\"^ .*:.*:.*\")\n",
    "\n",
    "def parse_date(date):\n",
    "    if pattern.match(date):\n",
    "        return datetime.datetime.strptime(date,' %H:%M:%S')\n",
    "    else:\n",
    "        return datetime.datetime.strptime(date,' %M:%S.%f')"
   ]
  },
  {
   "cell_type": "code",
   "execution_count": 28,
   "metadata": {
    "collapsed": false
   },
   "outputs": [
    {
     "name": "stdout",
     "output_type": "stream",
     "text": [
      " & 8.025 & 18.5045 & 66.2175 \\\\\n",
      " & 1.2115 & 65.557 & 477.6415 \\\\\n",
      " & 12.896 & 28.619 & 63.8985 \\\\\n",
      " & 0.866 & 9.674 & 69.4435 \\\\\n",
      " & 1.6615 & 12.7975 & 40.0085 \\\\\n",
      " & 4.3985 & 8.562 & 19.8565 \\\\\n",
      " & 6.6085 & 20.276 & 51.403 \\\\\n",
      " & 11.9495 & 34.6575 & 40.5065 \\\\\n",
      " & 4.516 & 12.934 & 13.727 \\\\\n",
      " & 2.9755 & 14.8675 & 102.9485 \\\\\n",
      " & 3.1485 & 6.2405 & 5.8845 \\\\\n",
      " & 1.2805 & 13.217 & 69.5955 \\\\\n",
      " & 4.8335 & 17.694 & 73.6145 \\\\\n",
      " & 6.513 & 12.6465 & 28.959 \\\\\n",
      " & 1.7295 & 15.672 & 41.9745 \\\\\n",
      " & 2.277 & 23.616 & 38.0475 \\\\\n",
      " & 2.0975 & 23.9385 & 49.141 \\\\\n",
      " & 1.704 & 23.3205 & 33.7015 \\\\\n",
      " & 0.999 & 8.1265 & 23.8095 \\\\\n",
      " & 0.7125 & 1.05 & 1.1705 \\\\\n"
     ]
    }
   ],
   "source": [
    "#print(averages_1[\"time\"])\n",
    "#print(averages_2[\"time\"])\n",
    "#print(averages_3[\"time\"])\n",
    "for i in range(averages_1.index.shape[0]):\n",
    "    print( \" & \" + str(averages_1.iloc[i][\"time\"]) + \" & \" + str(averages_2.iloc[i][\"time\"]) + \" & \" + str(averages_3.iloc[i][\"time\"]) + \" \\\\\\\\\")"
   ]
  },
  {
   "cell_type": "markdown",
   "metadata": {},
   "source": [
    "# Spark 100k"
   ]
  },
  {
   "cell_type": "code",
   "execution_count": 4,
   "metadata": {
    "collapsed": false
   },
   "outputs": [],
   "source": [
    "results_1 = pd.read_csv(\"output_time_spark_100k.log\")\n",
    "\n",
    "results_1[\"query\"] = results_1[\"query\"].str.extract(r'watdiv/watdiv/bin/Release/datasets/100k/gen_queries/gen_queries_([0-9]+_.*)\\.txt')\n",
    "results_1[\"query_type\"] = results_1[\"query\"].str.replace(r\"[0-9]+_\", \"\")\n",
    "\n",
    "results_1['t'] = results_1[\"time\"].apply(lambda x: datetime.datetime.strptime(x,' %M:%S.%f'))\n",
    "results_1['td'] = results_1.t - datetime.datetime.strptime('00:00.0','%M:%S.%f')\n",
    "results_1['time'] = results_1['td'].apply(lambda x: x / np.timedelta64(1, 's'))\n",
    "\n",
    "# Averages per query type\n",
    "averages_1 = results_1.groupby([\"query_type\"]).mean()\n",
    "averages_1[\"query_class\"] = averages_1.index.str.replace(r\"[0-9]\", \"\")\n",
    "\n",
    "# Averages per query class\n",
    "averages_class_1 = averages_1.groupby([\"query_class\"]).mean()"
   ]
  },
  {
   "cell_type": "markdown",
   "metadata": {},
   "source": [
    "# Spark 1M"
   ]
  },
  {
   "cell_type": "code",
   "execution_count": 5,
   "metadata": {
    "collapsed": false
   },
   "outputs": [],
   "source": [
    "results_2 = pd.read_csv(\"output_time_spark_1M.log\")\n",
    "\n",
    "results_2[\"query\"] = results_2[\"query\"].str.extract(r'watdiv/watdiv/bin/Release/datasets/1M/gen_queries/gen_queries_([0-9]+_.*)\\.txt')\n",
    "results_2[\"query_type\"] = results_2[\"query\"].str.replace(r\"[0-9]+_\", \"\")\n",
    "\n",
    "results_2['t'] = results_2[\"time\"].apply(lambda x: datetime.datetime.strptime(x,' %M:%S.%f'))\n",
    "results_2['td'] = results_2.t - datetime.datetime.strptime('00:00.0','%M:%S.%f')\n",
    "results_2['time'] = results_2['td'].apply(lambda x: x / np.timedelta64(1, 's'))\n",
    "\n",
    "# Averages per query type\n",
    "averages_2 = results_2.groupby([\"query_type\"]).mean()\n",
    "averages_2[\"query_class\"] = averages_2.index.str.replace(r\"[0-9]\", \"\")\n",
    "\n",
    "# Averages per query class\n",
    "averages_class_2 = averages_2.groupby([\"query_class\"]).mean()"
   ]
  },
  {
   "cell_type": "markdown",
   "metadata": {},
   "source": [
    "# Spark 10M"
   ]
  },
  {
   "cell_type": "code",
   "execution_count": 6,
   "metadata": {
    "collapsed": false
   },
   "outputs": [],
   "source": [
    "results_3 = pd.read_csv(\"output_time_spark_10M.log\")\n",
    "\n",
    "results_3[\"query\"] = results_3[\"query\"].str.extract(r'/opt/benchmark/queries/10M/gen_queries_([0-9]+_.*)\\.txt')\n",
    "results_3[\"query_type\"] = results_3[\"query\"].str.replace(r\"[0-9]+_\", \"\")\n",
    "\n",
    "results_3['t'] = results_3[\"time\"].apply(lambda x: datetime.datetime.strptime(x,' %M:%S.%f'))\n",
    "results_3['td'] = results_3.t - datetime.datetime.strptime('00:00.0','%M:%S.%f')\n",
    "results_3['time'] = results_3['td'].apply(lambda x: x / np.timedelta64(1, 's'))\n",
    "\n",
    "# Averages per query type\n",
    "averages_3 = results_3.groupby([\"query_type\"]).mean()\n",
    "averages_3[\"query_class\"] = averages_3.index.str.replace(r\"[0-9]\", \"\")\n",
    "\n",
    "# Averages per query class\n",
    "averages_class_3 = averages_3.groupby([\"query_class\"]).mean()"
   ]
  },
  {
   "cell_type": "markdown",
   "metadata": {},
   "source": [
    "# Graphs"
   ]
  },
  {
   "cell_type": "code",
   "execution_count": 7,
   "metadata": {
    "collapsed": false
   },
   "outputs": [
    {
     "name": "stderr",
     "output_type": "stream",
     "text": [
      "/usr/local/lib/python3.4/dist-packages/matplotlib/__init__.py:872: UserWarning: text.fontsize is deprecated and replaced with font.size; please use the latter.\n",
      "  warnings.warn(self.msg_depr % (key, alt_key))\n"
     ]
    }
   ],
   "source": [
    "latexify(columns=2)"
   ]
  },
  {
   "cell_type": "code",
   "execution_count": 8,
   "metadata": {
    "collapsed": false
   },
   "outputs": [
    {
     "data": {
      "image/png": "[encoded data removed]",
      "text/plain": [
       "<matplotlib.figure.Figure at 0x7f1112b404e0>"
      ]
     },
     "metadata": {},
     "output_type": "display_data"
    }
   ],
   "source": [
    "# Grid lines\n",
    "\n",
    "\n",
    "# Grid lines\n",
    "#plt.figure(figsize=(20,10))\n",
    "\n",
    "spark_1, = plt.semilogy(range(1, averages_1.index.shape[0]+1), averages_1[\"time\"], '--o')\n",
    "spark_2, = plt.semilogy(range(1, averages_2.index.shape[0]+1), averages_2[\"time\"], '--o')\n",
    "spark_3, = plt.semilogy(range(1, averages_3.index.shape[0]+1), averages_3[\"time\"], '--o')\n",
    "\n",
    "plt.ylabel(\"Execution time (s)\")\n",
    "plt.xlabel(\"WatDiv query template\")\n",
    "plt.xticks(range(1, averages_1.index.shape[0]+1), averages_1.index, rotation=\"vertical\")\n",
    "plt.grid(True, which=\"both\", color=\"gray\")\n",
    "\n",
    "legend = plt.legend([spark_1,spark_2, spark_3], \n",
    "                    [\"Spark (100k)\", \"Spark (1M)\", \"Spark (10M)\"],\n",
    "                    loc='upper center', bbox_to_anchor=(0.5, -0.15), ncol=3)\n",
    "\n",
    "plt.savefig(\"line_plot_hex_2c.pdf\", bbox_extra_artists=(legend,), bbox_inches='tight')\n",
    "#plt.show()"
   ]
  },
  {
   "cell_type": "code",
   "execution_count": 10,
   "metadata": {
    "collapsed": false
   },
   "outputs": [
    {
     "name": "stderr",
     "output_type": "stream",
     "text": [
      "/usr/local/lib/python3.4/dist-packages/matplotlib/__init__.py:872: UserWarning: text.fontsize is deprecated and replaced with font.size; please use the latter.\n",
      "  warnings.warn(self.msg_depr % (key, alt_key))\n"
     ]
    }
   ],
   "source": [
    "latexify(columns=1)"
   ]
  },
  {
   "cell_type": "code",
   "execution_count": 11,
   "metadata": {
    "collapsed": false
   },
   "outputs": [
    {
     "data": {
      "image/png": "[encoded data removed]",
      "text/plain": [
       "<matplotlib.figure.Figure at 0x7f111239efd0>"
      ]
     },
     "metadata": {},
     "output_type": "display_data"
    }
   ],
   "source": [
    "spark_1, = plt.semilogy(range(1, averages_1.index.shape[0]+1), averages_1[\"time\"], '--o')\n",
    "spark_2, = plt.semilogy(range(1, averages_2.index.shape[0]+1), averages_2[\"time\"], '--o')\n",
    "spark_3, = plt.semilogy(range(1, averages_3.index.shape[0]+1), averages_3[\"time\"], '--o')\n",
    "\n",
    "plt.ylabel(\"Execution time (s)\")\n",
    "plt.xlabel(\"WatDiv query template\")\n",
    "plt.xticks(range(1, averages_1.index.shape[0]+1), averages_1.index, rotation=\"vertical\")\n",
    "plt.grid(True, which=\"both\", color=\"gray\")\n",
    "\n",
    "legend = plt.legend([spark_1,spark_2, spark_3], \n",
    "                    [\"Spark (100k)\", \"Spark (1M)\", \"Spark (10M)\"],\n",
    "                    loc='upper center', bbox_to_anchor=(0.5, -0.2), ncol=3)\n",
    "\n",
    "plt.savefig(\"line_plot_hex_1c.pdf\", bbox_extra_artists=(legend,), bbox_inches='tight')\n",
    "#plt.show()"
   ]
  },
  {
   "cell_type": "code",
   "execution_count": 12,
   "metadata": {
    "collapsed": false
   },
   "outputs": [
    {
     "name": "stderr",
     "output_type": "stream",
     "text": [
      "/usr/local/lib/python3.4/dist-packages/matplotlib/__init__.py:872: UserWarning: text.fontsize is deprecated and replaced with font.size; please use the latter.\n",
      "  warnings.warn(self.msg_depr % (key, alt_key))\n"
     ]
    }
   ],
   "source": [
    "latexify(columns=2)"
   ]
  },
  {
   "cell_type": "code",
   "execution_count": 13,
   "metadata": {
    "collapsed": false
   },
   "outputs": [
    {
     "data": {
      "image/png": "[encoded data removed]",
      "text/plain": [
       "<matplotlib.figure.Figure at 0x7f1112dce6a0>"
      ]
     },
     "metadata": {},
     "output_type": "display_data"
    }
   ],
   "source": [
    "#ax = results_impala_100K[\"sec\"].plot.box(return_type=\"axes\")\n",
    "temp = pd.DataFrame()\n",
    "temp[\"spark_1\"] = results_1[\"time\"]\n",
    "temp[\"spark_2\"] = results_2[\"time\"]\n",
    "temp[\"spark_3\"] = results_3[\"time\"]\n",
    "\n",
    "#plt.boxplot(temp)\n",
    "temp.plot.box()\n",
    "plt.yscale('log')\n",
    "plt.xticks(range(1, 4), [\"Spark (100k)\", \"Spark (1M)\", \"Spark (10M)\"])\n",
    "\n",
    "\n",
    "\n",
    "#plt.boxplot(results_impala_100K[\"secs\"])\n",
    "plt.grid(True, which=\"both\", color=\"gray\")\n",
    "plt.ylabel(\"Execution time (s)\")\n",
    "plt.xlabel(\"Runtime distributions\")\n",
    "plt.gca().xaxis.set_label_position('top') \n",
    "\n",
    "plt.savefig(\"boxplot_hex.pdf\")"
   ]
  },
  {
   "cell_type": "code",
   "execution_count": 14,
   "metadata": {
    "collapsed": false
   },
   "outputs": [
    {
     "data": {
      "image/png": "[encoded data removed]",
      "text/plain": [
       "<matplotlib.figure.Figure at 0x7f1112a66b00>"
      ]
     },
     "metadata": {},
     "output_type": "display_data"
    }
   ],
   "source": [
    "# Grid lines\n",
    "plt.figure()\n",
    "\n",
    "sorted_results_1 = results_1.sort_values([\"time\"])\n",
    "sorted_results_2 = results_2.sort_values([\"time\"])\n",
    "sorted_results_3 = results_3.sort_values([\"time\"])\n",
    "\n",
    "spark_1, = plt.semilogy(range(1, sorted_results_1.index.shape[0]+1), sorted_results_1[\"time\"], '-')\n",
    "spark_2, = plt.semilogy(range(1, sorted_results_2.index.shape[0]+1), sorted_results_2[\"time\"], '-')\n",
    "spark_3, = plt.semilogy(range(1, sorted_results_3.index.shape[0]+1), sorted_results_3[\"time\"], '-')\n",
    "\n",
    "plt.ylabel(\"Execution time (s)\")\n",
    "plt.grid(True, which=\"both\", color=\"gray\")\n",
    "\n",
    "legend = plt.legend([spark_1, spark_2, spark_3], \n",
    "                    [\"Spark (100k)\", \"Spark (1M)\", \"Spark (10M)\"],\n",
    "                    loc='upper center', bbox_to_anchor=(0.5, -0.1), ncol=3)\n",
    "\n",
    "plt.savefig(\"line_plot_2_hex.pdf\", bbox_extra_artists=(legend,), bbox_inches='tight')\n",
    "#plt.show()"
   ]
  },
  {
   "cell_type": "code",
   "execution_count": 16,
   "metadata": {
    "collapsed": false
   },
   "outputs": [
    {
     "data": {
      "image/png": "[encoded data removed]",
      "text/plain": [
       "<matplotlib.figure.Figure at 0x7f1112159080>"
      ]
     },
     "metadata": {},
     "output_type": "display_data"
    }
   ],
   "source": [
    "fig, ax = plt.subplots()\n",
    "\n",
    "ind = np.arange(averages_class_1.index.shape[0])  # the x locations for the groups\n",
    "width = 7/40                                  # the width of the bars\n",
    "#width= 0.35\n",
    "\n",
    "prop_iter = iter(plt.rcParams['axes.prop_cycle'])\n",
    "spark_1 = ax.bar(ind,           averages_class_1.time, width, log=True, color=next(prop_iter)['color'])\n",
    "spark_2 = ax.bar(ind + width,   averages_class_2.time, width, log=True, color=next(prop_iter)['color'])\n",
    "spark_3 = ax.bar(ind + 2*width, averages_class_3.time, width, log=True, color=next(prop_iter)['color'])\n",
    "\n",
    "plt.ylabel(\"Execution time (s)\")\n",
    "plt.xlabel(\"WatDiv query type\")\n",
    "ax.set_xticks(ind + 1.5*width)\n",
    "ax.set_xticklabels(averages_class_1.index)\n",
    "ax.set_ylim(0,100)\n",
    "plt.grid(True, which=\"both\", color=\"gray\")\n",
    "\n",
    "legend = plt.legend([spark_1, spark_2, spark_3], \n",
    "                    [\"Spark (100k)\", \"Spark (1M)\", \"Spark (10M)\"],\n",
    "                    loc='upper center', bbox_to_anchor=(0.5, -0.1), ncol=3)\n",
    "\n",
    "plt.savefig(\"barplot_hex.pdf\", bbox_extra_artists=(legend,), bbox_inches='tight')\n",
    "#plt.show()"
   ]
  },
  {
   "cell_type": "code",
   "execution_count": 5,
   "metadata": {
    "collapsed": false
   },
   "outputs": [],
   "source": [
    "# Boxplot\n",
    "results_spark_100K = pd.read_csv(\"output_time_spark_100k.log\", names=[\"query\", \"time\"])\n",
    "results_impala_100K = pd.read_csv(\"output_time_impala_100k.log\", names=[\"query\", \"time\"])"
   ]
  },
  {
   "cell_type": "code",
   "execution_count": 6,
   "metadata": {
    "collapsed": false
   },
   "outputs": [
    {
     "data": {
      "text/html": [
       "<div>\n",
       "<table border=\"1\" class=\"dataframe\">\n",
       "  <thead>\n",
       "    <tr style=\"text-align: right;\">\n",
       "      <th></th>\n",
       "      <th>query</th>\n",
       "      <th>time</th>\n",
       "    </tr>\n",
       "  </thead>\n",
       "  <tbody>\n",
       "    <tr>\n",
       "      <th>0</th>\n",
       "      <td>watdiv/watdiv/bin/Release/gen_queries/gen_quer...</td>\n",
       "      <td>0:24.14</td>\n",
       "    </tr>\n",
       "    <tr>\n",
       "      <th>1</th>\n",
       "      <td>watdiv/watdiv/bin/Release/gen_queries/gen_quer...</td>\n",
       "      <td>0:02.36</td>\n",
       "    </tr>\n",
       "    <tr>\n",
       "      <th>2</th>\n",
       "      <td>watdiv/watdiv/bin/Release/gen_queries/gen_quer...</td>\n",
       "      <td>0:42.21</td>\n",
       "    </tr>\n",
       "    <tr>\n",
       "      <th>3</th>\n",
       "      <td>watdiv/watdiv/bin/Release/gen_queries/gen_quer...</td>\n",
       "      <td>0:01.86</td>\n",
       "    </tr>\n",
       "    <tr>\n",
       "      <th>4</th>\n",
       "      <td>watdiv/watdiv/bin/Release/gen_queries/gen_quer...</td>\n",
       "      <td>0:17.33</td>\n",
       "    </tr>\n",
       "  </tbody>\n",
       "</table>\n",
       "</div>"
      ],
      "text/plain": [
       "                                               query      time\n",
       "0  watdiv/watdiv/bin/Release/gen_queries/gen_quer...   0:24.14\n",
       "1  watdiv/watdiv/bin/Release/gen_queries/gen_quer...   0:02.36\n",
       "2  watdiv/watdiv/bin/Release/gen_queries/gen_quer...   0:42.21\n",
       "3  watdiv/watdiv/bin/Release/gen_queries/gen_quer...   0:01.86\n",
       "4  watdiv/watdiv/bin/Release/gen_queries/gen_quer...   0:17.33"
      ]
     },
     "execution_count": 6,
     "metadata": {},
     "output_type": "execute_result"
    }
   ],
   "source": [
    "results_spark_100K.head(n=5)"
   ]
  },
  {
   "cell_type": "code",
   "execution_count": 7,
   "metadata": {
    "collapsed": false
   },
   "outputs": [
    {
     "data": {
      "text/html": [
       "<div>\n",
       "<table border=\"1\" class=\"dataframe\">\n",
       "  <thead>\n",
       "    <tr style=\"text-align: right;\">\n",
       "      <th></th>\n",
       "      <th>query</th>\n",
       "      <th>time</th>\n",
       "    </tr>\n",
       "  </thead>\n",
       "  <tbody>\n",
       "    <tr>\n",
       "      <th>0</th>\n",
       "      <td>watdiv/watdiv/bin/Release/gen_queries/gen_quer...</td>\n",
       "      <td>0:51.76</td>\n",
       "    </tr>\n",
       "    <tr>\n",
       "      <th>1</th>\n",
       "      <td>watdiv/watdiv/bin/Release/gen_queries/gen_quer...</td>\n",
       "      <td>0:13.45</td>\n",
       "    </tr>\n",
       "    <tr>\n",
       "      <th>2</th>\n",
       "      <td>watdiv/watdiv/bin/Release/gen_queries/gen_quer...</td>\n",
       "      <td>22:33.87</td>\n",
       "    </tr>\n",
       "    <tr>\n",
       "      <th>3</th>\n",
       "      <td>watdiv/watdiv/bin/Release/gen_queries/gen_quer...</td>\n",
       "      <td>0:11.33</td>\n",
       "    </tr>\n",
       "    <tr>\n",
       "      <th>4</th>\n",
       "      <td>watdiv/watdiv/bin/Release/gen_queries/gen_quer...</td>\n",
       "      <td>0:17.25</td>\n",
       "    </tr>\n",
       "  </tbody>\n",
       "</table>\n",
       "</div>"
      ],
      "text/plain": [
       "                                               query       time\n",
       "0  watdiv/watdiv/bin/Release/gen_queries/gen_quer...    0:51.76\n",
       "1  watdiv/watdiv/bin/Release/gen_queries/gen_quer...    0:13.45\n",
       "2  watdiv/watdiv/bin/Release/gen_queries/gen_quer...   22:33.87\n",
       "3  watdiv/watdiv/bin/Release/gen_queries/gen_quer...    0:11.33\n",
       "4  watdiv/watdiv/bin/Release/gen_queries/gen_quer...    0:17.25"
      ]
     },
     "execution_count": 7,
     "metadata": {},
     "output_type": "execute_result"
    }
   ],
   "source": [
    "results_impala_100K.head(n=5)"
   ]
  },
  {
   "cell_type": "code",
   "execution_count": 8,
   "metadata": {
    "collapsed": false
   },
   "outputs": [],
   "source": [
    "results_impala_100K['t'] = results_impala_100K.time.apply(lambda x: datetime.datetime.strptime(x,' %M:%S.%f'))\n",
    "results_impala_100K['td'] = results_impala_100K.t - datetime.datetime.strptime('00:00.0','%M:%S.%f')\n",
    "results_impala_100K['sec'] = results_impala_100K['td'].apply(lambda x: x / np.timedelta64(1, 's'))"
   ]
  },
  {
   "cell_type": "code",
   "execution_count": 9,
   "metadata": {
    "collapsed": true
   },
   "outputs": [],
   "source": [
    "results_spark_100K['t'] = results_spark_100K.time.apply(lambda x: datetime.datetime.strptime(x,' %M:%S.%f'))\n",
    "results_spark_100K['td'] = results_spark_100K.t - datetime.datetime.strptime('00:00.0','%M:%S.%f')\n",
    "results_spark_100K['sec'] = results_spark_100K['td'].apply(lambda x: x / np.timedelta64(1, 's'))"
   ]
  },
  {
   "cell_type": "code",
   "execution_count": 10,
   "metadata": {
    "collapsed": false
   },
   "outputs": [
    {
     "data": {
      "image/png": "[encoded data removed]",
      "text/plain": [
       "<matplotlib.figure.Figure at 0x7f5ffec73cc0>"
      ]
     },
     "metadata": {},
     "output_type": "display_data"
    }
   ],
   "source": [
    "#ax = results_impala_100K[\"sec\"].plot.box(return_type=\"axes\")\n",
    "temp = pd.DataFrame()\n",
    "temp[\"impala\"] = results_impala_100K[\"sec\"]\n",
    "temp[\"spark\"] =  results_spark_100K[\"sec\"]\n",
    "#plt.boxplot(temp)\n",
    "temp.plot.box()\n",
    "plt.yscale('log')\n",
    "plt.xticks(range(1, 3), [\"Impala\", \"Spark\"])\n",
    "\n",
    "plt.gca().spines['bottom'].set_color('white')\n",
    "plt.gca().spines['top'].set_color('white') \n",
    "plt.gca().spines['right'].set_color('white')\n",
    "plt.gca().spines['left'].set_color('white')\n",
    "\n",
    "#plt.boxplot(results_impala_100K[\"secs\"])\n",
    "plt.grid(True, which=\"both\", color=\"gray\")\n",
    "plt.ylabel(\"Execution time (s)\")\n",
    "plt.xlabel(\"Runtime distributions (100K)\")\n",
    "plt.gca().xaxis.set_label_position('top') \n",
    "\n",
    "plt.savefig(\"boxplot.eps\")"
   ]
  },
  {
   "cell_type": "code",
   "execution_count": 14,
   "metadata": {
    "collapsed": false
   },
   "outputs": [
    {
     "data": {
      "text/plain": [
       "0      False\n",
       "1      False\n",
       "2      False\n",
       "3       True\n",
       "4       True\n",
       "5       True\n",
       "6       True\n",
       "7       True\n",
       "8      False\n",
       "9      False\n",
       "10     False\n",
       "11     False\n",
       "12     False\n",
       "13     False\n",
       "14     False\n",
       "15     False\n",
       "16     False\n",
       "17     False\n",
       "18     False\n",
       "19     False\n",
       "20     False\n",
       "21     False\n",
       "22     False\n",
       "23      True\n",
       "24      True\n",
       "25      True\n",
       "26      True\n",
       "27      True\n",
       "28     False\n",
       "29     False\n",
       "       ...  \n",
       "273    False\n",
       "274    False\n",
       "275    False\n",
       "276    False\n",
       "277    False\n",
       "278    False\n",
       "279    False\n",
       "280    False\n",
       "281    False\n",
       "282    False\n",
       "283     True\n",
       "284     True\n",
       "285     True\n",
       "286     True\n",
       "287     True\n",
       "288    False\n",
       "289    False\n",
       "290    False\n",
       "291    False\n",
       "292    False\n",
       "293    False\n",
       "294    False\n",
       "295    False\n",
       "296    False\n",
       "297    False\n",
       "298    False\n",
       "299    False\n",
       "300    False\n",
       "301    False\n",
       "302    False\n",
       "Name: query, dtype: bool"
      ]
     },
     "execution_count": 14,
     "metadata": {},
     "output_type": "execute_result"
    }
   ],
   "source": [
    "# Sorted per type of query\n",
    "results_impala_100K[\"query\"].str.contains(\"C\")\n",
    "results_impala_100K[\"query\"].str.contains(\"L\")\n",
    "results_impala_100K[\"query\"].str.contains(\"F\")\n",
    "\n"
   ]
  },
  {
   "cell_type": "code",
   "execution_count": null,
   "metadata": {
    "collapsed": true
   },
   "outputs": [],
   "source": [
    "# Sorted per execution time"
   ]
  }
 ],
 "metadata": {
  "kernelspec": {
   "display_name": "Python 3",
   "language": "python",
   "name": "python3"
  },
  "language_info": {
   "codemirror_mode": {
    "name": "ipython",
    "version": 3
   },
   "file_extension": ".py",
   "mimetype": "text/x-python",
   "name": "python",
   "nbconvert_exporter": "python",
   "pygments_lexer": "ipython3",
   "version": "3.4.3"
  },
  "toc": {
   "toc_cell": false,
   "toc_number_sections": true,
   "toc_threshold": 6,
   "toc_window_display": false
  }
 },
 "nbformat": 4,
 "nbformat_minor": 0
}

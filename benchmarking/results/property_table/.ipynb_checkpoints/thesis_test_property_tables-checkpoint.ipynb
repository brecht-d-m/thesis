{
 "cells": [
  {
   "cell_type": "markdown",
   "metadata": {},
   "source": [
    "# Thesis - Property table test (Star shaped queries)"
   ]
  },
  {
   "cell_type": "code",
   "execution_count": 1,
   "metadata": {
    "collapsed": true
   },
   "outputs": [],
   "source": [
    "FILENAME = \"watdiv.100k.nt\""
   ]
  },
  {
   "cell_type": "code",
   "execution_count": 2,
   "metadata": {
    "collapsed": false
   },
   "outputs": [],
   "source": [
    "import pyspark\n",
    "sc = pyspark.SparkContext('local[*]')\n",
    "\n",
    "#necessary to use matplotlib in a notebook\n",
    "%matplotlib inline  \n",
    "import matplotlib.pylab as plt\n",
    "import pandas as pd"
   ]
  },
  {
   "cell_type": "code",
   "execution_count": 4,
   "metadata": {
    "collapsed": false
   },
   "outputs": [
    {
     "data": {
      "text/plain": [
       "['<http://db.uwaterloo.ca/~galuc/wsdbm/User0> <http://schema.org/email> \"inside precocity dilettanti luxuries ecclesiastic tweaking\" .',\n",
       " '<http://db.uwaterloo.ca/~galuc/wsdbm/User0> <http://xmlns.com/foaf/familyName> \"SANDRA\" .',\n",
       " '<http://db.uwaterloo.ca/~galuc/wsdbm/User0> <http://xmlns.com/foaf/givenName> \"LILLIE\" .',\n",
       " '<http://db.uwaterloo.ca/~galuc/wsdbm/User0> <http://db.uwaterloo.ca/~galuc/wsdbm/userId> \"2969651\" .',\n",
       " '<http://db.uwaterloo.ca/~galuc/wsdbm/User1> <http://schema.org/email> \"newsiest bullfight\\'s stapler halfpenny sleigh\\'s they\\'ll opt longhorn Cheyenne\\'s clamor\" .']"
      ]
     },
     "execution_count": 4,
     "metadata": {},
     "output_type": "execute_result"
    }
   ],
   "source": [
    "triples = sc.textFile(\"watdiv.100k.nt\")\n",
    "triples.cache()\n",
    "triples.take(5)"
   ]
  },
  {
   "cell_type": "code",
   "execution_count": 11,
   "metadata": {
    "collapsed": false
   },
   "outputs": [
    {
     "data": {
      "text/plain": [
       "[['<http://db.uwaterloo.ca/~galuc/wsdbm/User0>',\n",
       "  '<http://schema.org/email>',\n",
       "  '\"inside precocity dilettanti luxuries ecclesiastic tweaking\"'],\n",
       " ['<http://db.uwaterloo.ca/~galuc/wsdbm/User0>',\n",
       "  '<http://xmlns.com/foaf/familyName>',\n",
       "  '\"SANDRA\"'],\n",
       " ['<http://db.uwaterloo.ca/~galuc/wsdbm/User0>',\n",
       "  '<http://xmlns.com/foaf/givenName>',\n",
       "  '\"LILLIE\"'],\n",
       " ['<http://db.uwaterloo.ca/~galuc/wsdbm/User0>',\n",
       "  '<http://db.uwaterloo.ca/~galuc/wsdbm/userId>',\n",
       "  '\"2969651\"'],\n",
       " ['<http://db.uwaterloo.ca/~galuc/wsdbm/User1>',\n",
       "  '<http://schema.org/email>',\n",
       "  '\"newsiest bullfight\\'s stapler halfpenny sleigh\\'s they\\'ll opt longhorn Cheyenne\\'s clamor\"']]"
      ]
     },
     "execution_count": 11,
     "metadata": {},
     "output_type": "execute_result"
    }
   ],
   "source": [
    "triples_mapped = (triples\n",
    "                  .map(lambda x: x[:-2])\n",
    "                  .map(lambda x: x.split(' ', 2))\n",
    "                  )\n",
    "triples_mapped.take(5)"
   ]
  },
  {
   "cell_type": "code",
   "execution_count": 24,
   "metadata": {
    "collapsed": false
   },
   "outputs": [
    {
     "data": {
      "text/plain": [
       "['\"inside precocity dilettanti luxuries ecclesiastic tweaking\"',\n",
       " '\"SANDRA\"',\n",
       " '\"LILLIE\"',\n",
       " '\"2969651\"',\n",
       " '\"newsiest bullfight\\'s stapler halfpenny sleigh\\'s they\\'ll opt longhorn Cheyenne\\'s clamor\"']"
      ]
     },
     "execution_count": 24,
     "metadata": {},
     "output_type": "execute_result"
    }
   ],
   "source": [
    "import re\n",
    "\n",
    "def get_prefix(string):\n",
    "    if(string.startswith(\"<\") and string.endswith(\">\")):\n",
    "        return re.split('[#/]', string[1:-1])[-1]\n",
    "    return string\n",
    "\n",
    "triples_get_prefix = (triples_mapped\n",
    "                      .map(lambda x: get_prefix(x[2]))\n",
    "                     )\n",
    "\n",
    "triples_get_prefix.take(5)"
   ]
  },
  {
   "cell_type": "code",
   "execution_count": 28,
   "metadata": {
    "collapsed": false
   },
   "outputs": [
    {
     "name": "stdout",
     "output_type": "stream",
     "text": [
      "+--------------------+--------------------+--------------------+\n",
      "|             subject|           predicate|              object|\n",
      "+--------------------+--------------------+--------------------+\n",
      "|<http://db.uwater...|<http://schema.or...|\"inside precocity...|\n",
      "|<http://db.uwater...|<http://xmlns.com...|            \"SANDRA\"|\n",
      "|<http://db.uwater...|<http://xmlns.com...|            \"LILLIE\"|\n",
      "|<http://db.uwater...|<http://db.uwater...|           \"2969651\"|\n",
      "|<http://db.uwater...|<http://schema.or...|\"newsiest bullfig...|\n",
      "|<http://db.uwater...|<http://xmlns.com...|            \"ANTONY\"|\n",
      "|<http://db.uwater...|<http://xmlns.com...|            \"LEONEL\"|\n",
      "|<http://db.uwater...|<http://db.uwater...|           \"7998266\"|\n",
      "|<http://db.uwater...|<http://schema.or...|\"Acosta finagles ...|\n",
      "|<http://db.uwater...|<http://xmlns.com...|             \"RUSTY\"|\n",
      "|<http://db.uwater...|<http://xmlns.com...|              \"TINA\"|\n",
      "|<http://db.uwater...|<http://db.uwater...|           \"5283878\"|\n",
      "|<http://db.uwater...|<http://schema.or...|\"cowhand's toadst...|\n",
      "|<http://db.uwater...|<http://db.uwater...|           \"3130911\"|\n",
      "|<http://db.uwater...|<http://schema.or...|\"envelope's varyi...|\n",
      "|<http://db.uwater...|<http://xmlns.com...|           \"GREGORY\"|\n",
      "|<http://db.uwater...|<http://xmlns.com...|            \"LEANNA\"|\n",
      "|<http://db.uwater...|<http://db.uwater...|           \"4503766\"|\n",
      "|<http://db.uwater...|<http://schema.or...|         \"upsurge's\"|\n",
      "|<http://db.uwater...|<http://db.uwater...|           \"2444961\"|\n",
      "+--------------------+--------------------+--------------------+\n",
      "only showing top 20 rows\n",
      "\n"
     ]
    }
   ],
   "source": [
    "from pyspark.sql import SQLContext\n",
    "sqlContext = SQLContext(sc)\n",
    "\n",
    "df_property_table = triples_mapped.toDF([\"subject\", \"predicate\", \"object\"])\n",
    "df_property_table.show()"
   ]
  }
 ],
 "metadata": {
  "kernelspec": {
   "display_name": "Python 3",
   "language": "python",
   "name": "python3"
  },
  "language_info": {
   "codemirror_mode": {
    "name": "ipython",
    "version": 3
   },
   "file_extension": ".py",
   "mimetype": "text/x-python",
   "name": "python",
   "nbconvert_exporter": "python",
   "pygments_lexer": "ipython3",
   "version": "3.4.3"
  },
  "toc": {
   "toc_cell": false,
   "toc_number_sections": true,
   "toc_threshold": 6,
   "toc_window_display": false
  }
 },
 "nbformat": 4,
 "nbformat_minor": 0
}
